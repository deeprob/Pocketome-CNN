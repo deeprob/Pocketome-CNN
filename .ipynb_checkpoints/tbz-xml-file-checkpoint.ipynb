{
 "cells": [
  {
   "cell_type": "code",
   "execution_count": 8,
   "metadata": {},
   "outputs": [],
   "source": [
    "import tarfile\n",
    "from bs4 import BeautifulSoup\n",
    "import os"
   ]
  },
  {
   "cell_type": "code",
   "execution_count": 11,
   "metadata": {},
   "outputs": [
    {
     "data": {
      "text/plain": [
       "'/Users/dzb5732/Box Sync/PhD-dzb5732@psu.edu/Pocketome-NN'"
      ]
     },
     "execution_count": 11,
     "metadata": {},
     "output_type": "execute_result"
    }
   ],
   "source": [
    "os.getcwd()"
   ]
  },
  {
   "cell_type": "code",
   "execution_count": 16,
   "metadata": {},
   "outputs": [],
   "source": [
    "filename = 'Data/Pocketome/pocketome-xml.tbz'\n"
   ]
  },
  {
   "cell_type": "code",
   "execution_count": 20,
   "metadata": {},
   "outputs": [
    {
     "name": "stdout",
     "output_type": "stream",
     "text": [
      "1433B_HUMAN_1_240_pep.xml\n"
     ]
    }
   ],
   "source": [
    "with tarfile.open(filename,'r:bz2') as tar:\n",
    "    for f in tar:\n",
    "        print(f.name)\n",
    "        data = tar.extractfile(f)\n",
    "        soup = BeautifulSoup(data,'xml')\n",
    "        break"
   ]
  },
  {
   "cell_type": "code",
   "execution_count": 77,
   "metadata": {},
   "outputs": [],
   "source": [
    "def _get_entry_info(soup):\n",
    "    p_name = soup.entry['name']\n",
    "    return p_name\n",
    "\n",
    "def _get_protein_info(soup):\n",
    "    p_id = soup.entry.protein['id']\n",
    "    p_swiss_id = soup.entry.protein.swissID.contents\n",
    "    p_swiss_acc = soup.entry.protein.swissAcc.contents\n",
    "    p_protein_name = soup.entry.protein.proteinName.contents\n",
    "    p_protein_family = soup.entry.protein.proteinFamily.contents\n",
    "    p_sequence = soup.entry.protein.sequence.contents\n",
    "    return p_id,p_swiss_id,p_swiss_acc,p_protein_name,p_protein_family,p_sequence\n",
    "\n",
    "\n",
    "def _get_chain_info(soup):\n",
    "    for chain in soup.entry.find_all('chain'):\n",
    "        c_id = chain['id']\n",
    "        c_residue_numbers_pocket = chain.residueNumbersPocket.contents\n",
    "        c_residue_numbers_site = chain.residueNumbersSite.contents\n",
    "        c_residue_dict = {}\n",
    "        for f in chain.find_all('residue'):\n",
    "            c_residue_dict[f['id']] = (f.contents[0],f['pocket']==\"true\")\n",
    "        yield c_id,c_residue_numbers_pocket,c_residue_numbers_site,c_residue_dict\n",
    "        \n",
    "def _get_pdb_info(soup):\n",
    "    pdb_full = soup.entry.pdbFull.contents[0].split(',')\n",
    "    pdb_processed = soup.entry.pdbProcessed.contents[0].split(',')\n",
    "    pdb_nonredundant = soup.entry.pdbNonredundant.contents[0].split(',')\n",
    "    pdb_redundant = soup.entry.pdbRedundant.contents[0].split(',')\n",
    "    return pdb_full,pdb_processed,pdb_nonredundant,pdb_redundant\n",
    "\n",
    "def _get_object_contact_maps(soup):\n",
    "    no_objs = soup.entry.nofObjects.contents[0]\n",
    "    pocket_contact_map = {}\n",
    "    site_contact_map = {}\n",
    "    for obj in soup.entry.find_all('object'):\n",
    "        if obj.pocket:\n",
    "            pocket_contact_map[obj['id']] = [(c.contents[0],c['residue']) for c in obj.pocket.find_all('contact')] \n",
    "        \n",
    "        if obj.site:\n",
    "            site_contact_map[obj['id']] = [(c.contents[0],c['residue']) for c in obj.site.find_all('contact')] \n",
    "    \n",
    "    return no_objs,pocket_contact_map,site_contact_map\n",
    "    "
   ]
  },
  {
   "cell_type": "code",
   "execution_count": 79,
   "metadata": {},
   "outputs": [
    {
     "data": {
      "text/plain": [
       "('A',\n",
       " ['1433B_HUMAN'],\n",
       " ['P31946'],\n",
       " ['14-3-3 protein beta/alpha'],\n",
       " ['14-3-3 family'],\n",
       " ['MTMDKSELVQKAKLAEQAERYDDMAAAMKAVTEQGHELSNEERNLLSVAYKNVVGARRSSWRVISSIEQKTERNEKKQQMGKEYREKIEAELQDICNDVLELLDKYLIPNATQPESKVFYLKMKGDYFRYLSEVASGDNKQTTVSNSQQAYQEAFEISKKEMQPTHPIRLGLALNFSVFYYEILNSPEKACSLAKTAFDEAIAELDTLNEESYKDSTLIMQLLRDNLTLWTSENQGDEGDAGEGEN'])"
      ]
     },
     "execution_count": 79,
     "metadata": {},
     "output_type": "execute_result"
    }
   ],
   "source": [
    "_get_protein_info(soup)"
   ]
  },
  {
   "cell_type": "code",
   "execution_count": null,
   "metadata": {},
   "outputs": [],
   "source": []
  }
 ],
 "metadata": {
  "kernelspec": {
   "display_name": "Python 3",
   "language": "python",
   "name": "python3"
  },
  "language_info": {
   "codemirror_mode": {
    "name": "ipython",
    "version": 3
   },
   "file_extension": ".py",
   "mimetype": "text/x-python",
   "name": "python",
   "nbconvert_exporter": "python",
   "pygments_lexer": "ipython3",
   "version": "3.7.4"
  }
 },
 "nbformat": 4,
 "nbformat_minor": 2
}
